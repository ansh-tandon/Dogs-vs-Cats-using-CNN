{
  "nbformat": 4,
  "nbformat_minor": 0,
  "metadata": {
    "colab": {
      "provenance": [],
      "authorship_tag": "ABX9TyMQ3VdPwfP9PTC8mw5Y4kO0",
      "include_colab_link": true
    },
    "kernelspec": {
      "name": "python3",
      "display_name": "Python 3"
    },
    "language_info": {
      "name": "python"
    },
    "accelerator": "GPU",
    "gpuClass": "standard"
  },
  "cells": [
    {
      "cell_type": "markdown",
      "metadata": {
        "id": "view-in-github",
        "colab_type": "text"
      },
      "source": [
        "<a href=\"https://colab.research.google.com/github/ansh-tandon/Dogs-vs-Cats-using-CNN/blob/main/CATS_vs_DOGS.ipynb\" target=\"_parent\"><img src=\"https://colab.research.google.com/assets/colab-badge.svg\" alt=\"Open In Colab\"/></a>"
      ]
    },
    {
      "cell_type": "markdown",
      "source": [
        "# CAT vs DOG using CNN"
      ],
      "metadata": {
        "id": "yn4zASefBe8R"
      }
    },
    {
      "cell_type": "code",
      "execution_count": 38,
      "metadata": {
        "id": "mFUpaUOO0ILJ"
      },
      "outputs": [],
      "source": [
        "import tensorflow as tf\n",
        "import zipfile\n",
        "import urllib.request\n",
        "import shutil\n",
        "import os\n",
        "\n",
        "url = 'https://storage.googleapis.com/mledu-datasets/cats_and_dogs_filtered.zip'\n",
        "# Instead of downloading the dataset let's extraxt it from Google's API and then Join the directories\n",
        "filename = 'cats_and_dogs_filtered.zip'\n",
        "if not os.path.exists(filename):\n",
        "    urllib.request.urlretrieve(url, filename)\n",
        "\n",
        "with zipfile.ZipFile(filename, 'r') as zip_ref:\n",
        "    zip_ref.extractall()\n",
        "\n",
        "base_dir = 'cats_and_dogs_filtered'\n",
        "train_dir = os.path.join(base_dir, 'train')\n",
        "validation_dir = os.path.join(base_dir, 'validation')\n",
        "\n",
        "# Code is downloaded from the URL and gets extracted to local directory. os.path.join() is being used to join path of directories & os.listdir() is used for mentioning the list of files in particular directory\n",
        "\n",
        "train_cats_dir = os.path.join(train_dir, 'cats')  # directory of training cat pictures\n",
        "train_dogs_dir = os.path.join(train_dir, 'dogs')  # directory of training dog pictures\n",
        "validation_cats_dir = os.path.join(validation_dir, 'cats')  # directoryofvalidation cat pictures\n",
        "validation_dogs_dir = os.path.join(validation_dir, 'dogs')  # directory of validation dog pictures\n"
      ]
    },
    {
      "cell_type": "code",
      "source": [
        "# To Print the number of Training and testing/validation images \n",
        "print('total training cat images:', len(os.listdir(train_cats_dir)))\n",
        "print('total training dog images:', len(os.listdir(train_dogs_dir)))\n",
        "print('total validation cat images:', len(os.listdir(validation_cats_dir)))\n",
        "print('total validation dog images:', len(os.listdir(validation_dogs_dir)))"
      ],
      "metadata": {
        "colab": {
          "base_uri": "https://localhost:8080/"
        },
        "id": "7H2Dxc5Q03jo",
        "outputId": "a48d95c7-dc81-402d-ba13-cfddfccace46"
      },
      "execution_count": 39,
      "outputs": [
        {
          "output_type": "stream",
          "name": "stdout",
          "text": [
            "total training cat images: 1000\n",
            "total training dog images: 1000\n",
            "total validation cat images: 500\n",
            "total validation dog images: 500\n"
          ]
        }
      ]
    },
    {
      "cell_type": "markdown",
      "source": [
        "IMPORT all the necessary libraries possible"
      ],
      "metadata": {
        "id": "gH_Lb0MR3OTM"
      }
    },
    {
      "cell_type": "code",
      "source": [
        "import tensorflow as tf\n",
        "from tensorflow import keras\n",
        "import numpy as np\n",
        "import matplotlib.pyplot as plt\n",
        "from keras import Sequential\n",
        "from keras.layers import Input,Dense,Conv2D,MaxPooling2D,Flatten,BatchNormalization,Dropout\n",
        "from tensorflow.keras.preprocessing.image import ImageDataGenerator\n",
        "\n",
        "#Using VGG16 pretrained model  \n",
        "from tensorflow.keras.applications import VGG16\n",
        "from tensorflow.keras.models import Model\n",
        "# Optimizer as Adam in order to minimize the loss function and also it's a safer option to go for\n",
        "from tensorflow.keras.optimizers import Adam\n",
        "from tensorflow.keras.callbacks import LearningRateScheduler"
      ],
      "metadata": {
        "id": "uqXqwGRf2pW6"
      },
      "execution_count": 40,
      "outputs": []
    },
    {
      "cell_type": "code",
      "source": [
        "# DATA AUGMENTATION (first on training and then on validation dataset)\n",
        "train_datagen = ImageDataGenerator(rescale=1./255,\n",
        "                                   shear_range=0.2,\n",
        "                                   zoom_range=0.2,\n",
        "                                   horizontal_flip=True)"
      ],
      "metadata": {
        "id": "SEbXvYpo5qjS"
      },
      "execution_count": 41,
      "outputs": []
    },
    {
      "cell_type": "code",
      "source": [
        "#Rescaling the image into fixed input size \n",
        "test_datagen = ImageDataGenerator(rescale=1./255)"
      ],
      "metadata": {
        "id": "Mykm6E555v4Y"
      },
      "execution_count": 42,
      "outputs": []
    },
    {
      "cell_type": "code",
      "source": [
        "# \n",
        "train_generator = train_datagen.flow_from_directory(train_dir,\n",
        "                                                    target_size=(224, 224),\n",
        "                                                    batch_size=32,\n",
        "                                                    class_mode='binary')"
      ],
      "metadata": {
        "colab": {
          "base_uri": "https://localhost:8080/"
        },
        "id": "8unZzE4K5zOt",
        "outputId": "a0785c75-e031-4623-b65e-049ddbd2ab97"
      },
      "execution_count": 43,
      "outputs": [
        {
          "output_type": "stream",
          "name": "stdout",
          "text": [
            "Found 2000 images belonging to 2 classes.\n"
          ]
        }
      ]
    },
    {
      "cell_type": "code",
      "source": [
        "validation_generator = test_datagen.flow_from_directory(validation_dir,\n",
        "                                                        target_size=(224, 224),\n",
        "                                                        batch_size=32,\n",
        "                                                        class_mode='binary')"
      ],
      "metadata": {
        "colab": {
          "base_uri": "https://localhost:8080/"
        },
        "id": "7VSYE5lz55d_",
        "outputId": "54995be7-4508-4e1f-a8a9-8dcce97b1b81"
      },
      "execution_count": 44,
      "outputs": [
        {
          "output_type": "stream",
          "name": "stdout",
          "text": [
            "Found 1000 images belonging to 2 classes.\n"
          ]
        }
      ]
    },
    {
      "cell_type": "code",
      "source": [
        "# Pre trained weights from ImageNet Dataset where last connected layer is not included as we will be adding our own layer\n",
        "vgg16_model = VGG16(weights='imagenet', include_top=False, input_shape=(224, 224, 3))\n"
      ],
      "metadata": {
        "id": "hgKEloiq6JaM"
      },
      "execution_count": 45,
      "outputs": []
    },
    {
      "cell_type": "code",
      "source": [
        "# GFreezing the layer so it doesn't get trained\n",
        "for layer in vgg16_model.layers:\n",
        "    layer.trainable = False\n",
        "# Flatten returns output of the model\n",
        "x = Flatten()(vgg16_model.output)\n",
        "# Dense layer of 256 units and ReLu activation \n",
        "x = Dense(256, activation='relu')(x)\n",
        "x = Dropout(0.5)(x)\n",
        "# Sigmoid function to get output or predict CAT & DOG as 0 or 1\n",
        "x = Dense(1, activation='sigmoid')(x)"
      ],
      "metadata": {
        "id": "q50olHW16PjZ"
      },
      "execution_count": 46,
      "outputs": []
    },
    {
      "cell_type": "code",
      "source": [
        "model = Model(inputs=vgg16_model.input, outputs=x)"
      ],
      "metadata": {
        "id": "fklNB4JT6Y_2"
      },
      "execution_count": 47,
      "outputs": []
    },
    {
      "cell_type": "code",
      "source": [
        "# Compiling the model\n",
        "# Binary Crossentropy bcz binary classification task\n",
        "model.compile(optimizer=Adam(learning_rate=1e-5), loss='binary_crossentropy', metrics=['accuracy'])"
      ],
      "metadata": {
        "id": "-AypGkEP6boD"
      },
      "execution_count": 48,
      "outputs": []
    },
    {
      "cell_type": "code",
      "source": [
        "def lr_decay(epoch):\n",
        "    return 1e-5 * np.exp(-epoch / 5)\n",
        "history = model.fit(train_generator,\n",
        "                    validation_data=validation_generator,\n",
        "                    epochs=15,\n",
        "                    steps_per_epoch=len(train_generator),\n",
        "                    validation_steps=len(validation_generator),\n",
        "                    callbacks=[LearningRateScheduler(lr_decay)])"
      ],
      "metadata": {
        "colab": {
          "base_uri": "https://localhost:8080/"
        },
        "id": "nttznbmC6kg1",
        "outputId": "2af57380-4a0a-45e0-f518-1a064a9a1823"
      },
      "execution_count": 49,
      "outputs": [
        {
          "output_type": "stream",
          "name": "stdout",
          "text": [
            "Epoch 1/15\n",
            "63/63 [==============================] - 33s 499ms/step - loss: 0.6722 - accuracy: 0.5955 - val_loss: 0.5058 - val_accuracy: 0.8000 - lr: 1.0000e-05\n",
            "Epoch 2/15\n",
            "63/63 [==============================] - 30s 482ms/step - loss: 0.5107 - accuracy: 0.7575 - val_loss: 0.4119 - val_accuracy: 0.8600 - lr: 8.1873e-06\n",
            "Epoch 3/15\n",
            "63/63 [==============================] - 31s 486ms/step - loss: 0.4524 - accuracy: 0.7880 - val_loss: 0.3660 - val_accuracy: 0.8680 - lr: 6.7032e-06\n",
            "Epoch 4/15\n",
            "63/63 [==============================] - 30s 483ms/step - loss: 0.3955 - accuracy: 0.8390 - val_loss: 0.3387 - val_accuracy: 0.8900 - lr: 5.4881e-06\n",
            "Epoch 5/15\n",
            "63/63 [==============================] - 30s 481ms/step - loss: 0.3803 - accuracy: 0.8475 - val_loss: 0.3208 - val_accuracy: 0.8910 - lr: 4.4933e-06\n",
            "Epoch 6/15\n",
            "63/63 [==============================] - 30s 476ms/step - loss: 0.3633 - accuracy: 0.8520 - val_loss: 0.3083 - val_accuracy: 0.8940 - lr: 3.6788e-06\n",
            "Epoch 7/15\n",
            "63/63 [==============================] - 31s 484ms/step - loss: 0.3446 - accuracy: 0.8620 - val_loss: 0.3039 - val_accuracy: 0.8990 - lr: 3.0119e-06\n",
            "Epoch 8/15\n",
            "63/63 [==============================] - 30s 476ms/step - loss: 0.3365 - accuracy: 0.8585 - val_loss: 0.2959 - val_accuracy: 0.9040 - lr: 2.4660e-06\n",
            "Epoch 9/15\n",
            "63/63 [==============================] - 31s 485ms/step - loss: 0.3290 - accuracy: 0.8725 - val_loss: 0.2890 - val_accuracy: 0.9010 - lr: 2.0190e-06\n",
            "Epoch 10/15\n",
            "63/63 [==============================] - 30s 474ms/step - loss: 0.3280 - accuracy: 0.8650 - val_loss: 0.2864 - val_accuracy: 0.9030 - lr: 1.6530e-06\n",
            "Epoch 11/15\n",
            "63/63 [==============================] - 30s 480ms/step - loss: 0.3182 - accuracy: 0.8755 - val_loss: 0.2826 - val_accuracy: 0.9020 - lr: 1.3534e-06\n",
            "Epoch 12/15\n",
            "63/63 [==============================] - 31s 484ms/step - loss: 0.3213 - accuracy: 0.8695 - val_loss: 0.2808 - val_accuracy: 0.9060 - lr: 1.1080e-06\n",
            "Epoch 13/15\n",
            "63/63 [==============================] - 30s 474ms/step - loss: 0.3122 - accuracy: 0.8765 - val_loss: 0.2788 - val_accuracy: 0.9050 - lr: 9.0718e-07\n",
            "Epoch 14/15\n",
            "63/63 [==============================] - 31s 487ms/step - loss: 0.3142 - accuracy: 0.8710 - val_loss: 0.2775 - val_accuracy: 0.9060 - lr: 7.4274e-07\n",
            "Epoch 15/15\n",
            "63/63 [==============================] - 30s 474ms/step - loss: 0.3171 - accuracy: 0.8700 - val_loss: 0.2761 - val_accuracy: 0.9060 - lr: 6.0810e-07\n"
          ]
        }
      ]
    },
    {
      "cell_type": "markdown",
      "source": [
        "# ACCURACY "
      ],
      "metadata": {
        "id": "zzMB1w6oK3YQ"
      }
    },
    {
      "cell_type": "code",
      "source": [
        "# Evaluating the model on the test set\n",
        "test_generator = test_datagen.flow_from_directory(validation_dir,\n",
        "                                                  target_size=(224, 224),\n",
        "                                                  batch_size=32,\n",
        "                                                  class_mode='binary')\n",
        "\n",
        "test_loss, test_acc = model.evaluate(test_generator, steps=len(test_generator))\n",
        "print('Test accuracy:', test_acc)"
      ],
      "metadata": {
        "colab": {
          "base_uri": "https://localhost:8080/"
        },
        "id": "fKH1xXeN8cZr",
        "outputId": "d70d4450-7871-43c4-a13b-391ce0f52dfa"
      },
      "execution_count": 50,
      "outputs": [
        {
          "output_type": "stream",
          "name": "stdout",
          "text": [
            "Found 1000 images belonging to 2 classes.\n",
            "32/32 [==============================] - 5s 141ms/step - loss: 0.2761 - accuracy: 0.9060\n",
            "Test accuracy: 0.906000018119812\n"
          ]
        }
      ]
    },
    {
      "cell_type": "code",
      "source": [
        "plt.plot(history.history['accuracy'], label='Training accuracy')\n",
        "plt.plot(history.history['val_accuracy'], label='Validation accuracy')"
      ],
      "metadata": {
        "colab": {
          "base_uri": "https://localhost:8080/",
          "height": 282
        },
        "id": "E4wd3g3w8hmJ",
        "outputId": "0096822b-4b86-4e18-f42a-751e46c622ab"
      },
      "execution_count": 51,
      "outputs": [
        {
          "output_type": "execute_result",
          "data": {
            "text/plain": [
              "[<matplotlib.lines.Line2D at 0x7fbf20f2bbe0>]"
            ]
          },
          "metadata": {},
          "execution_count": 51
        },
        {
          "output_type": "display_data",
          "data": {
            "text/plain": [
              "<Figure size 432x288 with 1 Axes>"
            ],
            "image/png": "[encoded data removed]"
          },
          "metadata": {
            "needs_background": "light"
          }
        }
      ]
    },
    {
      "cell_type": "code",
      "source": [
        "plt.plot(history.history['loss'], label='Training loss')\n",
        "plt.plot(history.history['val_loss'], label='Validation loss')\n",
        "plt.legend()\n",
        "plt.show()"
      ],
      "metadata": {
        "colab": {
          "base_uri": "https://localhost:8080/",
          "height": 265
        },
        "id": "cT39S3Zs8mQH",
        "outputId": "6674cc39-4b35-45f3-e190-d7d1bfa81fec"
      },
      "execution_count": 53,
      "outputs": [
        {
          "output_type": "display_data",
          "data": {
            "text/plain": [
              "<Figure size 432x288 with 1 Axes>"
            ],
            "image/png": "[encoded data removed]"
          },
          "metadata": {
            "needs_background": "light"
          }
        }
      ]
    },
    {
      "cell_type": "markdown",
      "source": [
        "fINALLY GOT AN ACCURACY OF ABOUT 90.6 % WHICH IS QUITE GOOD AND VALIDATION ACCURACY IS ALSO FINE"
      ],
      "metadata": {
        "id": "fP5VAwPZLB2i"
      }
    }
  ]
}